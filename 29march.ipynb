{
 "cells": [
  {
   "cell_type": "code",
   "execution_count": 2,
   "id": "6729e754-e31f-4d84-a460-9ecffd844d32",
   "metadata": {},
   "outputs": [],
   "source": [
    "# Q1. What is Lasso Regression, and how does it differ from other regression techniques?\n",
    "# Lasso regression is a regularization technique. It is used over regression methods for a more accurate prediction. This model uses shrinkage. Shrinkage is where data\n",
    "# values are shrunk towards a central point as the mean."
   ]
  },
  {
   "cell_type": "code",
   "execution_count": 3,
   "id": "d29c5e59-347d-4967-9f9a-2e40434394d6",
   "metadata": {},
   "outputs": [],
   "source": [
    "# Q2. What is the main advantage of using Lasso Regression in feature selection?\n",
    "# Ans 2Advantages of LASSO over other regression-based approaches are specifically described here. LASSO involves a penalty factor \n",
    "# that determines how many features are retained; using cross-validation to choose the penalty factor helps assure that the model\n",
    "# will generalize well to future data samples."
   ]
  },
  {
   "cell_type": "code",
   "execution_count": null,
   "id": "b67b8d54-ce22-4276-99c2-e749b8737636",
   "metadata": {},
   "outputs": [],
   "source": [
    "    # Q3. How do you interpret the coefficients of a Lasso Regression model?\n",
    "\n",
    "    # Ans 3. The coefficients of a Lasso Regression model can be interpreted as the amount of influence that each feature has on\n",
    "    # the target variable. In particular, the coefficients represent the change in the target variable for a unit change in the \n",
    "    # corresponding feature, holding all other features constant. In a Lasso model, some of the coefficients may be shrunk to zero, \n",
    "    # which means that the corresponding features are not important for predicting the target variable.\n"
   ]
  },
  {
   "cell_type": "code",
   "execution_count": null,
   "id": "ea217fc8-d377-417c-8517-8912c96ae666",
   "metadata": {},
   "outputs": [],
   "source": [
    "# Q4. What are the tuning parameters that can be adjusted in Lasso Regression, and how do they affect the\n",
    "# model's performance?\n",
    "# Ans4. The tuning parameter in Lasso Regression is the regularization parameter, lambda, which controls the amount of shrinkage \n",
    "# applied to the coefficients. Increasing lambda increases the amount of shrinkage and results in a simpler model with fewer non-zero \n",
    "# coefficients. Decreasing lambda decreases the amount of shrinkage and allows more coefficients to have non-zero values, resulting in a \n",
    "# more complex model. The optimal value of lambda can be chosen using cross-validation.\n"
   ]
  },
  {
   "cell_type": "code",
   "execution_count": null,
   "id": "aa78952f-cbf4-432d-a902-375a9674086c",
   "metadata": {},
   "outputs": [],
   "source": [
    "# Q5. Can Lasso Regression be used for non-linear regression problems? If yes, how?\n",
    "# Ans5. Lasso Regression can be used for non-linear regression problems by transforming the input features into a\n",
    "# higher-dimensional space using basis functions or feature engineering techniques. The Lasso model will then select a \n",
    "# subset of the transformed features that are most important for predicting the target variable.\n"
   ]
  },
  {
   "cell_type": "code",
   "execution_count": null,
   "id": "de1d4203-9448-4c77-98bd-eb864cb7f790",
   "metadata": {},
   "outputs": [],
   "source": [
    "# Q6. What is the difference between Ridge Regression and Lasso Regression?\n",
    "# Ans 6. The main difference between Ridge Regression and Lasso Regression is the type of regularization used. Ridge\n",
    "# Regression uses L2 regularization, which adds a penalty term proportional to the squared magnitude of the coefficients, \n",
    "# while Lasso Regression uses L1 regularization, which adds a penalty term proportional to the absolute magnitude of the \n",
    "# coefficients. As a result, Ridge Regression tends to shrink all coefficients towards zero, while Lasso Regression tends \n",
    "# to shrink some coefficients to exactly zero.\n"
   ]
  },
  {
   "cell_type": "code",
   "execution_count": null,
   "id": "78d77f9e-9702-4144-81ba-7476b0af12c2",
   "metadata": {},
   "outputs": [],
   "source": [
    "# Q7. Can Lasso Regression handle multicollinearity in the input features? If yes, how?\n",
    "# Ans 7. Lasso Regression can handle multicollinearity in the input features by automatically performing feature selection and \n",
    "# choosing a subset of the most important features. This can be useful when there are many correlated features in the dataset \n",
    "# that may be redundant for predicting the target variable.\n"
   ]
  },
  {
   "cell_type": "code",
   "execution_count": null,
   "id": "488d0e4c-5279-4602-abab-18d5a3257bdd",
   "metadata": {},
   "outputs": [],
   "source": [
    "# Q8. How do you choose the optimal value of the regularization parameter (lambda) in Lasso Regression?\n",
    "# Ans 8. The optimal value of the regularization parameter, lambda, in Lasso Regression can be chosen using cross-validation.\n",
    "# The dataset is split into training and validation sets, and the model is trained on the training set with different values\n",
    "# of lambda. The performance of the model is then evaluated on the validation set using a performance metric such as mean squared\n",
    "# error. The lambda value that results in the best performance on the validation set is chosen as the optimal value for lambda."
   ]
  }
 ],
 "metadata": {
  "kernelspec": {
   "display_name": "Python 3 (ipykernel)",
   "language": "python",
   "name": "python3"
  },
  "language_info": {
   "codemirror_mode": {
    "name": "ipython",
    "version": 3
   },
   "file_extension": ".py",
   "mimetype": "text/x-python",
   "name": "python",
   "nbconvert_exporter": "python",
   "pygments_lexer": "ipython3",
   "version": "3.10.6"
  }
 },
 "nbformat": 4,
 "nbformat_minor": 5
}
